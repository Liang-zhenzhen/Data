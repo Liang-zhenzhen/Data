{
 "cells": [
  {
   "metadata": {
    "ExecuteTime": {
     "end_time": "2025-07-30T13:33:46.685229Z",
     "start_time": "2025-07-30T13:33:46.681375Z"
    }
   },
   "cell_type": "code",
   "source": [
    "import numpy as np\n",
    "import scipy as sp\n",
    "path = \"D:/7_30data/\""
   ],
   "id": "d24d81887c0c5754",
   "outputs": [],
   "execution_count": 2
  },
  {
   "metadata": {},
   "cell_type": "markdown",
   "source": "函数定义",
   "id": "68cd29872a3a7be3"
  },
  {
   "metadata": {
    "ExecuteTime": {
     "end_time": "2025-07-30T13:34:00.756996Z",
     "start_time": "2025-07-30T13:34:00.746239Z"
    }
   },
   "cell_type": "code",
   "source": [
    "# linear_solve\n",
    "def linear_solve(V, L_rho):\n",
    "    S = V.conj().T @ V\n",
    "    b = V.conj().T @ L_rho\n",
    "    a = sp.linalg.lstsq(S, b)[0]  # 用最小二乘法解线性方程组(更精确) #\n",
    "    # a = sp.linalg.pinv(S) @ b #用伪逆解线性方程组\n",
    "    # 计算 秩\n",
    "    rank_S = np.linalg.matrix_rank(S)\n",
    "    augmented = np.hstack((S, b.reshape(-1, 1)))\n",
    "    rank_augmented = np.linalg.matrix_rank(augmented)\n",
    "    print(\"rank(S) =\", rank_S)\n",
    "    print(\"rank([S | b]) =\", rank_augmented)\n",
    "    print(\"Residual norm for S @ a - b:\",np.linalg.norm(S @ a - b))\n",
    "    return np.real(a)\n",
    "\n",
    "# complex_linear_solve\n",
    "def complex_linear_solve(V, L_rho):\n",
    "    S = V.conj().T @ V\n",
    "    b = V.conj().T @ L_rho\n",
    "    a = sp.linalg.lstsq(S, b,lapack_driver='gelsy')[0]  # 用最小二乘法解线性方程组(更精确) #\n",
    "    rank_S = np.linalg.matrix_rank(S)\n",
    "    augmented = np.hstack((S, b.reshape(-1, 1)))\n",
    "    rank_augmented = np.linalg.matrix_rank(augmented)\n",
    "    print(\"rank(S) =\", rank_S)\n",
    "    print(\"rank([S | b]) =\", rank_augmented)\n",
    "    print(\"Residual norm for S @ a - b:\",np.linalg.norm(S @ a - b))\n",
    "    return np.real(a)\n",
    "\n",
    "\n",
    "# improved_linear_solve\n",
    "def improved_linear_solve(V, L_rho):\n",
    "    # 直接对 V 和 L_rho 进行最小二乘求解\n",
    "    a = sp.linalg.lstsq(V, L_rho)[0] # 直接传入V和L_rho，不再先计算S和b\n",
    "    rank_V = np.linalg.matrix_rank(V)\n",
    "    augmented = np.hstack((V, L_rho.reshape(-1, 1)))\n",
    "    rank_augmented = np.linalg.matrix_rank(augmented)\n",
    "    print(\"rank(V) =\", rank_V)\n",
    "    print(\"rank([V | L_rho]) =\", rank_augmented)\n",
    "    # 计算残差（与原始问题一致）\n",
    "    print(\"Residual norm for V @ a - L_rho:\", np.linalg.norm(V @ a - L_rho))\n",
    "    return np.real(a)\n",
    "\n",
    "\n",
    "# improved_linear_solve\n",
    "def complex_improved_linear_solve(V, L_rho):\n",
    "    a, residuals, rank, s = sp.linalg.lstsq(V, L_rho, lapack_driver='gelsy')\n",
    "    rank_V = np.linalg.matrix_rank(V)\n",
    "    augmented = np.hstack((V, L_rho.reshape(-1, 1)))\n",
    "    rank_augmented = np.linalg.matrix_rank(augmented)\n",
    "    print(\"rank(V) =\", rank_V)\n",
    "    print(\"rank([V | L_rho]) =\", rank_augmented)\n",
    "    print(\"Residual norm for V @ a - L_rho:\", np.linalg.norm(V @ a - L_rho))\n",
    "    print(\"Rank of V:\", rank)\n",
    "    return a\n"
   ],
   "id": "b059bb4a2f2319ea",
   "outputs": [],
   "execution_count": 3
  },
  {
   "metadata": {},
   "cell_type": "markdown",
   "source": "加载数据",
   "id": "6720f4fd2d05e8ea"
  },
  {
   "metadata": {
    "ExecuteTime": {
     "end_time": "2025-07-30T13:34:10.091049Z",
     "start_time": "2025-07-30T13:34:10.081974Z"
    }
   },
   "cell_type": "code",
   "source": [
    "S = np.load(path+'S_matrix.npy').astype(np.complex128)\n",
    "b = np.load(path+'b.npy').astype(np.complex128)\n",
    "V = np.load(path+'V.npy').astype(np.complex128)\n",
    "L_rho = np.load(path+'L_rho.npy').astype(np.complex128)\n",
    "\n",
    "\n",
    "# print(S.shape)\n",
    "# print(b.shape)\n",
    "# print(V.shape)\n",
    "# print(L_rho.shape)"
   ],
   "id": "f87ac166d89641de",
   "outputs": [],
   "execution_count": 4
  },
  {
   "metadata": {},
   "cell_type": "markdown",
   "source": "调用函数",
   "id": "6b3d3560ff421697"
  },
  {
   "metadata": {
    "ExecuteTime": {
     "end_time": "2025-07-30T13:35:53.169110Z",
     "start_time": "2025-07-30T13:35:52.312183Z"
    }
   },
   "cell_type": "code",
   "source": [
    "x = linear_solve(V,L_rho)\n",
    "\n",
    "y = complex_linear_solve(V, L_rho)\n",
    "\n",
    "z  = improved_linear_solve(V, L_rho)\n",
    "\n",
    "f = complex_improved_linear_solve(V, L_rho)\n",
    "\n"
   ],
   "id": "9c47e2b2e4601e70",
   "outputs": [
    {
     "name": "stdout",
     "output_type": "stream",
     "text": [
      "rank(S) = 2\n",
      "rank([S | b]) = 2\n",
      "Residual norm for S @ a - b: 1.0600097036628602e-06\n",
      "rank(S) = 2\n",
      "rank([S | b]) = 2\n",
      "Residual norm for S @ a - b: 1.446190670206653e-10\n",
      "rank(V) = 2\n",
      "rank([V | L_rho]) = 3\n",
      "Residual norm for V @ a - L_rho: 3.820397473785654\n",
      "rank(V) = 2\n",
      "rank([V | L_rho]) = 3\n",
      "Residual norm for V @ a - L_rho: 3.560365299236483\n",
      "Rank of V: 2\n"
     ]
    }
   ],
   "execution_count": 8
  }
 ],
 "metadata": {},
 "nbformat": 4,
 "nbformat_minor": 5
}
